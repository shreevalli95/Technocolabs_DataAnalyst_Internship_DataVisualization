{
 "cells": [
  {
   "cell_type": "markdown",
   "id": "9d8bdba4",
   "metadata": {
    "papermill": {
     "duration": 0.007245,
     "end_time": "2022-07-03T05:47:04.584540",
     "exception": false,
     "start_time": "2022-07-03T05:47:04.577295",
     "status": "completed"
    },
    "tags": []
   },
   "source": [
    "**This notebook is an exercise in the [Data Visualization](https://www.kaggle.com/learn/data-visualization) course.  You can reference the tutorial at [this link](https://www.kaggle.com/alexisbcook/line-charts).**\n",
    "\n",
    "---\n"
   ]
  },
  {
   "cell_type": "markdown",
   "id": "88cee1b4",
   "metadata": {
    "papermill": {
     "duration": 0.005809,
     "end_time": "2022-07-03T05:47:04.596611",
     "exception": false,
     "start_time": "2022-07-03T05:47:04.590802",
     "status": "completed"
    },
    "tags": []
   },
   "source": [
    "In this exercise, you will use your new knowledge to propose a solution to a real-world scenario. To succeed, you will need to import data into Python, answer questions using the data, and generate **line charts** to understand patterns in the data.\n",
    "\n",
    "## Scenario\n",
    "\n",
    "You have recently been hired to manage the museums in the City of Los Angeles. Your first project focuses on the four museums pictured in the images below.\n",
    "\n",
    "![ex1_museums](https://i.imgur.com/pFYL8J1.png)\n",
    "\n",
    "You will leverage data from the Los Angeles [Data Portal](https://data.lacity.org/) that tracks monthly visitors to each museum.  \n",
    "\n",
    "![ex1_xlsx](https://i.imgur.com/mGWYlym.png)\n",
    "\n",
    "## Setup\n",
    "\n",
    "Run the next cell to import and configure the Python libraries that you need to complete the exercise."
   ]
  },
  {
   "cell_type": "code",
   "execution_count": 1,
   "id": "a3f1d26d",
   "metadata": {
    "execution": {
     "iopub.execute_input": "2022-07-03T05:47:04.611059Z",
     "iopub.status.busy": "2022-07-03T05:47:04.610457Z",
     "iopub.status.idle": "2022-07-03T05:47:05.760662Z",
     "shell.execute_reply": "2022-07-03T05:47:05.759420Z"
    },
    "papermill": {
     "duration": 1.162063,
     "end_time": "2022-07-03T05:47:05.764751",
     "exception": false,
     "start_time": "2022-07-03T05:47:04.602688",
     "status": "completed"
    },
    "tags": []
   },
   "outputs": [
    {
     "name": "stdout",
     "output_type": "stream",
     "text": [
      "Setup Complete\n"
     ]
    }
   ],
   "source": [
    "import pandas as pd\n",
    "pd.plotting.register_matplotlib_converters()\n",
    "import matplotlib.pyplot as plt\n",
    "%matplotlib inline\n",
    "import seaborn as sns\n",
    "print(\"Setup Complete\")"
   ]
  },
  {
   "cell_type": "markdown",
   "id": "27f4bc0e",
   "metadata": {
    "papermill": {
     "duration": 0.006152,
     "end_time": "2022-07-03T05:47:05.777469",
     "exception": false,
     "start_time": "2022-07-03T05:47:05.771317",
     "status": "completed"
    },
    "tags": []
   },
   "source": [
    "The questions below will give you feedback on your work. Run the following cell to set up the feedback system."
   ]
  },
  {
   "cell_type": "code",
   "execution_count": 2,
   "id": "7e08c229",
   "metadata": {
    "execution": {
     "iopub.execute_input": "2022-07-03T05:47:05.791824Z",
     "iopub.status.busy": "2022-07-03T05:47:05.791450Z",
     "iopub.status.idle": "2022-07-03T05:47:05.859660Z",
     "shell.execute_reply": "2022-07-03T05:47:05.858431Z"
    },
    "papermill": {
     "duration": 0.078465,
     "end_time": "2022-07-03T05:47:05.862199",
     "exception": false,
     "start_time": "2022-07-03T05:47:05.783734",
     "status": "completed"
    },
    "tags": []
   },
   "outputs": [
    {
     "name": "stdout",
     "output_type": "stream",
     "text": [
      "Setup Complete\n"
     ]
    }
   ],
   "source": [
    "# Set up code checking\n",
    "import os\n",
    "if not os.path.exists(\"../input/museum_visitors.csv\"):\n",
    "    os.symlink(\"../input/data-for-datavis/museum_visitors.csv\", \"../input/museum_visitors.csv\") \n",
    "from learntools.core import binder\n",
    "binder.bind(globals())\n",
    "from learntools.data_viz_to_coder.ex2 import *\n",
    "print(\"Setup Complete\")"
   ]
  },
  {
   "cell_type": "markdown",
   "id": "4c42d250",
   "metadata": {
    "papermill": {
     "duration": 0.00627,
     "end_time": "2022-07-03T05:47:05.874822",
     "exception": false,
     "start_time": "2022-07-03T05:47:05.868552",
     "status": "completed"
    },
    "tags": []
   },
   "source": [
    "## Step 1: Load the data\n",
    "\n",
    "Your first assignment is to read the LA Museum Visitors data file into `museum_data`.  Note that:\n",
    "- The filepath to the dataset is stored as `museum_filepath`.  Please **do not** change the provided value of the filepath.\n",
    "- The name of the column to use as row labels is `\"Date\"`.  (This can be seen in cell A1 when the file is opened in Excel.)\n",
    "\n",
    "To help with this, you may find it useful to revisit some relevant code from the tutorial, which we have pasted below:\n",
    "\n",
    "```python\n",
    "# Path of the file to read\n",
    "spotify_filepath = \"../input/spotify.csv\"\n",
    "\n",
    "# Read the file into a variable spotify_data\n",
    "spotify_data = pd.read_csv(spotify_filepath, index_col=\"Date\", parse_dates=True)\n",
    "```\n",
    "\n",
    "The code you need to write now looks very similar!"
   ]
  },
  {
   "cell_type": "code",
   "execution_count": 3,
   "id": "743f6832",
   "metadata": {
    "execution": {
     "iopub.execute_input": "2022-07-03T05:47:05.889238Z",
     "iopub.status.busy": "2022-07-03T05:47:05.888847Z",
     "iopub.status.idle": "2022-07-03T05:47:05.907670Z",
     "shell.execute_reply": "2022-07-03T05:47:05.906611Z"
    },
    "papermill": {
     "duration": 0.028534,
     "end_time": "2022-07-03T05:47:05.909740",
     "exception": false,
     "start_time": "2022-07-03T05:47:05.881206",
     "status": "completed"
    },
    "tags": []
   },
   "outputs": [
    {
     "data": {
      "application/javascript": [
       "parent.postMessage({\"jupyterEvent\": \"custom.exercise_interaction\", \"data\": {\"outcomeType\": 1, \"valueTowardsCompletion\": 0.3333333333333333, \"interactionType\": 1, \"questionType\": 1, \"questionId\": \"1_LoadMuseumData\", \"learnToolsVersion\": \"0.3.4\", \"failureMessage\": \"\", \"exceptionClass\": \"\", \"trace\": \"\"}}, \"*\")"
      ],
      "text/plain": [
       "<IPython.core.display.Javascript object>"
      ]
     },
     "metadata": {},
     "output_type": "display_data"
    },
    {
     "data": {
      "text/markdown": [
       "<span style=\"color:#33cc33\">Correct</span>"
      ],
      "text/plain": [
       "Correct"
      ]
     },
     "metadata": {},
     "output_type": "display_data"
    }
   ],
   "source": [
    "# Path of the file to read\n",
    "museum_filepath = \"../input/museum_visitors.csv\"\n",
    "\n",
    "# Fill in the line below to read the file into a variable museum_data\n",
    "museum_data = pd.read_csv(museum_filepath,index_col=\"Date\", parse_dates=True)\n",
    "\n",
    "# Run the line below with no changes to check that you've loaded the data correctly\n",
    "step_1.check()"
   ]
  },
  {
   "cell_type": "code",
   "execution_count": 4,
   "id": "e3430a7c",
   "metadata": {
    "execution": {
     "iopub.execute_input": "2022-07-03T05:47:05.924549Z",
     "iopub.status.busy": "2022-07-03T05:47:05.924186Z",
     "iopub.status.idle": "2022-07-03T05:47:05.928348Z",
     "shell.execute_reply": "2022-07-03T05:47:05.927539Z"
    },
    "papermill": {
     "duration": 0.013968,
     "end_time": "2022-07-03T05:47:05.930449",
     "exception": false,
     "start_time": "2022-07-03T05:47:05.916481",
     "status": "completed"
    },
    "tags": []
   },
   "outputs": [],
   "source": [
    "# Uncomment the line below to receive a hint\n",
    "#step_1.hint()\n",
    "# Uncomment the line below to see the solution\n",
    "#step_1.solution()"
   ]
  },
  {
   "cell_type": "markdown",
   "id": "ae5ee6dc",
   "metadata": {
    "papermill": {
     "duration": 0.006227,
     "end_time": "2022-07-03T05:47:05.943451",
     "exception": false,
     "start_time": "2022-07-03T05:47:05.937224",
     "status": "completed"
    },
    "tags": []
   },
   "source": [
    "## Step 2: Review the data\n",
    "\n",
    "Use a Python command to print the last 5 rows of the data."
   ]
  },
  {
   "cell_type": "code",
   "execution_count": 5,
   "id": "b87b1f87",
   "metadata": {
    "execution": {
     "iopub.execute_input": "2022-07-03T05:47:05.958151Z",
     "iopub.status.busy": "2022-07-03T05:47:05.957787Z",
     "iopub.status.idle": "2022-07-03T05:47:05.972104Z",
     "shell.execute_reply": "2022-07-03T05:47:05.970880Z"
    },
    "papermill": {
     "duration": 0.02452,
     "end_time": "2022-07-03T05:47:05.974486",
     "exception": false,
     "start_time": "2022-07-03T05:47:05.949966",
     "status": "completed"
    },
    "tags": []
   },
   "outputs": [
    {
     "data": {
      "text/html": [
       "<div>\n",
       "<style scoped>\n",
       "    .dataframe tbody tr th:only-of-type {\n",
       "        vertical-align: middle;\n",
       "    }\n",
       "\n",
       "    .dataframe tbody tr th {\n",
       "        vertical-align: top;\n",
       "    }\n",
       "\n",
       "    .dataframe thead th {\n",
       "        text-align: right;\n",
       "    }\n",
       "</style>\n",
       "<table border=\"1\" class=\"dataframe\">\n",
       "  <thead>\n",
       "    <tr style=\"text-align: right;\">\n",
       "      <th></th>\n",
       "      <th>Avila Adobe</th>\n",
       "      <th>Firehouse Museum</th>\n",
       "      <th>Chinese American Museum</th>\n",
       "      <th>America Tropical Interpretive Center</th>\n",
       "    </tr>\n",
       "    <tr>\n",
       "      <th>Date</th>\n",
       "      <th></th>\n",
       "      <th></th>\n",
       "      <th></th>\n",
       "      <th></th>\n",
       "    </tr>\n",
       "  </thead>\n",
       "  <tbody>\n",
       "    <tr>\n",
       "      <th>2018-07-01</th>\n",
       "      <td>23136</td>\n",
       "      <td>4191</td>\n",
       "      <td>2620</td>\n",
       "      <td>4718</td>\n",
       "    </tr>\n",
       "    <tr>\n",
       "      <th>2018-08-01</th>\n",
       "      <td>20815</td>\n",
       "      <td>4866</td>\n",
       "      <td>2409</td>\n",
       "      <td>3891</td>\n",
       "    </tr>\n",
       "    <tr>\n",
       "      <th>2018-09-01</th>\n",
       "      <td>21020</td>\n",
       "      <td>4956</td>\n",
       "      <td>2146</td>\n",
       "      <td>3180</td>\n",
       "    </tr>\n",
       "    <tr>\n",
       "      <th>2018-10-01</th>\n",
       "      <td>19280</td>\n",
       "      <td>4622</td>\n",
       "      <td>2364</td>\n",
       "      <td>3775</td>\n",
       "    </tr>\n",
       "    <tr>\n",
       "      <th>2018-11-01</th>\n",
       "      <td>17163</td>\n",
       "      <td>4082</td>\n",
       "      <td>2385</td>\n",
       "      <td>4562</td>\n",
       "    </tr>\n",
       "  </tbody>\n",
       "</table>\n",
       "</div>"
      ],
      "text/plain": [
       "            Avila Adobe  Firehouse Museum  Chinese American Museum  \\\n",
       "Date                                                                 \n",
       "2018-07-01        23136              4191                     2620   \n",
       "2018-08-01        20815              4866                     2409   \n",
       "2018-09-01        21020              4956                     2146   \n",
       "2018-10-01        19280              4622                     2364   \n",
       "2018-11-01        17163              4082                     2385   \n",
       "\n",
       "            America Tropical Interpretive Center  \n",
       "Date                                              \n",
       "2018-07-01                                  4718  \n",
       "2018-08-01                                  3891  \n",
       "2018-09-01                                  3180  \n",
       "2018-10-01                                  3775  \n",
       "2018-11-01                                  4562  "
      ]
     },
     "execution_count": 5,
     "metadata": {},
     "output_type": "execute_result"
    }
   ],
   "source": [
    "museum_data.tail(5)\n",
    "# Print the last five rows of the data \n",
    " # Your code here"
   ]
  },
  {
   "cell_type": "markdown",
   "id": "90abfa39",
   "metadata": {
    "papermill": {
     "duration": 0.006369,
     "end_time": "2022-07-03T05:47:05.987704",
     "exception": false,
     "start_time": "2022-07-03T05:47:05.981335",
     "status": "completed"
    },
    "tags": []
   },
   "source": [
    "The last row (for `2018-11-01`) tracks the number of visitors to each museum in November 2018, the next-to-last row (for `2018-10-01`) tracks the number of visitors to each museum in October 2018, _and so on_.\n",
    "\n",
    "Use the last 5 rows of the data to answer the questions below."
   ]
  },
  {
   "cell_type": "code",
   "execution_count": 6,
   "id": "587afe10",
   "metadata": {
    "execution": {
     "iopub.execute_input": "2022-07-03T05:47:06.002657Z",
     "iopub.status.busy": "2022-07-03T05:47:06.002232Z",
     "iopub.status.idle": "2022-07-03T05:47:06.011900Z",
     "shell.execute_reply": "2022-07-03T05:47:06.010843Z"
    },
    "papermill": {
     "duration": 0.019781,
     "end_time": "2022-07-03T05:47:06.014157",
     "exception": false,
     "start_time": "2022-07-03T05:47:05.994376",
     "status": "completed"
    },
    "tags": []
   },
   "outputs": [
    {
     "data": {
      "application/javascript": [
       "parent.postMessage({\"jupyterEvent\": \"custom.exercise_interaction\", \"data\": {\"outcomeType\": 1, \"valueTowardsCompletion\": 0.3333333333333333, \"interactionType\": 1, \"questionType\": 1, \"questionId\": \"2_ReviewData\", \"learnToolsVersion\": \"0.3.4\", \"failureMessage\": \"\", \"exceptionClass\": \"\", \"trace\": \"\"}}, \"*\")"
      ],
      "text/plain": [
       "<IPython.core.display.Javascript object>"
      ]
     },
     "metadata": {},
     "output_type": "display_data"
    },
    {
     "data": {
      "text/markdown": [
       "<span style=\"color:#33cc33\">Correct</span>"
      ],
      "text/plain": [
       "Correct"
      ]
     },
     "metadata": {},
     "output_type": "display_data"
    }
   ],
   "source": [
    "# Fill in the line below: How many visitors did the Chinese American Museum \n",
    "# receive in July 2018?\n",
    "ca_museum_jul18 = 2620 \n",
    "\n",
    "# Fill in the line below: In October 2018, how many more visitors did Avila \n",
    "# Adobe receive than the Firehouse Museum?\n",
    "avila_oct18 =  14658\n",
    "\n",
    "\n",
    "# Check your answers\n",
    "step_2.check()"
   ]
  },
  {
   "cell_type": "code",
   "execution_count": 7,
   "id": "4a122894",
   "metadata": {
    "execution": {
     "iopub.execute_input": "2022-07-03T05:47:06.029622Z",
     "iopub.status.busy": "2022-07-03T05:47:06.029271Z",
     "iopub.status.idle": "2022-07-03T05:47:06.032779Z",
     "shell.execute_reply": "2022-07-03T05:47:06.031987Z"
    },
    "papermill": {
     "duration": 0.014026,
     "end_time": "2022-07-03T05:47:06.035125",
     "exception": false,
     "start_time": "2022-07-03T05:47:06.021099",
     "status": "completed"
    },
    "tags": []
   },
   "outputs": [],
   "source": [
    "# Lines below will give you a hint or solution code\n",
    "#step_2.hint()\n",
    "#step_2.solution()"
   ]
  },
  {
   "cell_type": "markdown",
   "id": "1c18046e",
   "metadata": {
    "papermill": {
     "duration": 0.006781,
     "end_time": "2022-07-03T05:47:06.049031",
     "exception": false,
     "start_time": "2022-07-03T05:47:06.042250",
     "status": "completed"
    },
    "tags": []
   },
   "source": [
    "## Step 3: Convince the museum board \n",
    "\n",
    "The Firehouse Museum claims they ran an event in 2014 that brought an incredible number of visitors, and that they should get extra budget to run a similar event again.  The other museums think these types of events aren't that important, and budgets should be split purely based on recent visitors on an average day.  \n",
    "\n",
    "To show the museum board how the event compared to regular traffic at each museum, create a line chart that shows how the number of visitors to each museum evolved over time.  Your figure should have four lines (one for each museum).\n",
    "\n",
    "> **(Optional) Note**: If you have some prior experience with plotting figures in Python, you might be familiar with the `plt.show()` command.  If you decide to use this command, please place it **after** the line of code that checks your answer (in this case, place it after `step_3.check()` below) -- otherwise, the checking code will return an error!"
   ]
  },
  {
   "cell_type": "code",
   "execution_count": 8,
   "id": "dce84416",
   "metadata": {
    "execution": {
     "iopub.execute_input": "2022-07-03T05:47:06.064566Z",
     "iopub.status.busy": "2022-07-03T05:47:06.064172Z",
     "iopub.status.idle": "2022-07-03T05:47:06.482810Z",
     "shell.execute_reply": "2022-07-03T05:47:06.481575Z"
    },
    "papermill": {
     "duration": 0.431076,
     "end_time": "2022-07-03T05:47:06.486978",
     "exception": false,
     "start_time": "2022-07-03T05:47:06.055902",
     "status": "completed"
    },
    "tags": []
   },
   "outputs": [
    {
     "data": {
      "application/javascript": [
       "parent.postMessage({\"jupyterEvent\": \"custom.exercise_interaction\", \"data\": {\"outcomeType\": 1, \"valueTowardsCompletion\": 0.3333333333333333, \"interactionType\": 1, \"questionType\": 2, \"questionId\": \"3_PlotAll\", \"learnToolsVersion\": \"0.3.4\", \"failureMessage\": \"\", \"exceptionClass\": \"\", \"trace\": \"\"}}, \"*\")"
      ],
      "text/plain": [
       "<IPython.core.display.Javascript object>"
      ]
     },
     "metadata": {},
     "output_type": "display_data"
    },
    {
     "data": {
      "text/markdown": [
       "<span style=\"color:#33cc33\">Correct</span>"
      ],
      "text/plain": [
       "Correct"
      ]
     },
     "metadata": {},
     "output_type": "display_data"
    },
    {
     "data": {
      "image/png": "[encoded data removed]",
      "text/plain": [
       "<Figure size 864x432 with 1 Axes>"
      ]
     },
     "metadata": {
      "needs_background": "light"
     },
     "output_type": "display_data"
    }
   ],
   "source": [
    "# Line chart showing the number of visitors to each museum over time\n",
    "plt.figure(figsize=(12,6))\n",
    "sns.lineplot(data=museum_data)\n",
    "plt.title(\"Monthly Visitors to Museums in the city\") # Your code here\n",
    "\n",
    "# Check your answer\n",
    "step_3.check()"
   ]
  },
  {
   "cell_type": "code",
   "execution_count": 9,
   "id": "efc220b2",
   "metadata": {
    "execution": {
     "iopub.execute_input": "2022-07-03T05:47:06.507294Z",
     "iopub.status.busy": "2022-07-03T05:47:06.506407Z",
     "iopub.status.idle": "2022-07-03T05:47:06.511146Z",
     "shell.execute_reply": "2022-07-03T05:47:06.510374Z"
    },
    "papermill": {
     "duration": 0.016933,
     "end_time": "2022-07-03T05:47:06.513321",
     "exception": false,
     "start_time": "2022-07-03T05:47:06.496388",
     "status": "completed"
    },
    "tags": []
   },
   "outputs": [],
   "source": [
    "# Lines below will give you a hint or solution code\n",
    "#step_3.hint()\n",
    "#step_3.solution_plot()"
   ]
  },
  {
   "cell_type": "markdown",
   "id": "5a529bd5",
   "metadata": {
    "papermill": {
     "duration": 0.008094,
     "end_time": "2022-07-03T05:47:06.530023",
     "exception": false,
     "start_time": "2022-07-03T05:47:06.521929",
     "status": "completed"
    },
    "tags": []
   },
   "source": [
    "## Step 4: Assess seasonality\n",
    "\n",
    "When meeting with the employees at Avila Adobe, you hear that one major pain point is that the number of museum visitors varies greatly with the seasons, with low seasons (when the employees are perfectly staffed and happy) and also high seasons (when the employees are understaffed and stressed).  You realize that if you can predict these high and low seasons, you can plan ahead to hire some additional seasonal employees to help out with the extra work.\n",
    "\n",
    "#### Part A\n",
    "Create a line chart that shows how the number of visitors to Avila Adobe has evolved over time.  (_If your code returns an error, the first thing that you should check is that you've spelled the name of the column correctly!  You must write the name of the column exactly as it appears in the dataset._)"
   ]
  },
  {
   "cell_type": "code",
   "execution_count": 10,
   "id": "d6e575ce",
   "metadata": {
    "execution": {
     "iopub.execute_input": "2022-07-03T05:47:06.548366Z",
     "iopub.status.busy": "2022-07-03T05:47:06.547992Z",
     "iopub.status.idle": "2022-07-03T05:47:06.807097Z",
     "shell.execute_reply": "2022-07-03T05:47:06.805821Z"
    },
    "papermill": {
     "duration": 0.271938,
     "end_time": "2022-07-03T05:47:06.810225",
     "exception": false,
     "start_time": "2022-07-03T05:47:06.538287",
     "status": "completed"
    },
    "tags": []
   },
   "outputs": [
    {
     "name": "stdout",
     "output_type": "stream",
     "text": [
      "Thank you for creating a line chart!  To see how your code compares to the official solution, please use the code cell below.\n"
     ]
    },
    {
     "data": {
      "application/javascript": [
       "parent.postMessage({\"jupyterEvent\": \"custom.exercise_interaction\", \"data\": {\"outcomeType\": 1, \"valueTowardsCompletion\": 0.3333333333333333, \"interactionType\": 1, \"questionType\": 2, \"questionId\": \"4.1_PlotAvila\", \"learnToolsVersion\": \"0.3.4\", \"failureMessage\": \"\", \"exceptionClass\": \"\", \"trace\": \"\"}}, \"*\")"
      ],
      "text/plain": [
       "<IPython.core.display.Javascript object>"
      ]
     },
     "metadata": {},
     "output_type": "display_data"
    },
    {
     "data": {
      "text/markdown": [
       "<span style=\"color:#33cc33\">Correct</span>"
      ],
      "text/plain": [
       "Correct"
      ]
     },
     "metadata": {},
     "output_type": "display_data"
    },
    {
     "data": {
      "image/png": "[encoded data removed]",
      "text/plain": [
       "<Figure size 864x432 with 1 Axes>"
      ]
     },
     "metadata": {
      "needs_background": "light"
     },
     "output_type": "display_data"
    }
   ],
   "source": [
    "# Line plot showing the number of visitors to Avila Adobe over time\n",
    "plt.figure(figsize=(12,6))\n",
    "# Add title\n",
    "plt.title(\"Monthly Visitors to Avila Adobe\")\n",
    "# Line chart showing the number of visitors to Avila Adobe over time\n",
    "sns.lineplot(data=museum_data['Avila Adobe'])\n",
    "# Add label for horizontal axis\n",
    "plt.xlabel(\"Date\") # Your code here\n",
    "\n",
    "# Check your answer\n",
    "step_4.a.check()"
   ]
  },
  {
   "cell_type": "code",
   "execution_count": 11,
   "id": "20b39b30",
   "metadata": {
    "execution": {
     "iopub.execute_input": "2022-07-03T05:47:06.832731Z",
     "iopub.status.busy": "2022-07-03T05:47:06.831552Z",
     "iopub.status.idle": "2022-07-03T05:47:06.836977Z",
     "shell.execute_reply": "2022-07-03T05:47:06.835903Z"
    },
    "papermill": {
     "duration": 0.019009,
     "end_time": "2022-07-03T05:47:06.839405",
     "exception": false,
     "start_time": "2022-07-03T05:47:06.820396",
     "status": "completed"
    },
    "tags": []
   },
   "outputs": [],
   "source": [
    "# Lines below will give you a hint or solution code\n",
    "#step_4.a.hint()\n",
    "#step_4.a.solution_plot()"
   ]
  },
  {
   "cell_type": "markdown",
   "id": "e4951af4",
   "metadata": {
    "papermill": {
     "duration": 0.009466,
     "end_time": "2022-07-03T05:47:06.858651",
     "exception": false,
     "start_time": "2022-07-03T05:47:06.849185",
     "status": "completed"
    },
    "tags": []
   },
   "source": [
    "#### Part B\n",
    "\n",
    "Does Avila Adobe get more visitors:\n",
    "- in September-February (in LA, the fall and winter months), or \n",
    "- in March-August (in LA, the spring and summer)?  \n",
    "\n",
    "Using this information, when should the museum staff additional seasonal employees?"
   ]
  },
  {
   "cell_type": "code",
   "execution_count": 12,
   "id": "dbec4f88",
   "metadata": {
    "execution": {
     "iopub.execute_input": "2022-07-03T05:47:06.880380Z",
     "iopub.status.busy": "2022-07-03T05:47:06.879245Z",
     "iopub.status.idle": "2022-07-03T05:47:06.887196Z",
     "shell.execute_reply": "2022-07-03T05:47:06.886388Z"
    },
    "papermill": {
     "duration": 0.021053,
     "end_time": "2022-07-03T05:47:06.889499",
     "exception": false,
     "start_time": "2022-07-03T05:47:06.868446",
     "status": "completed"
    },
    "tags": []
   },
   "outputs": [
    {
     "data": {
      "application/javascript": [
       "parent.postMessage({\"jupyterEvent\": \"custom.exercise_interaction\", \"data\": {\"interactionType\": 2, \"questionType\": 4, \"questionId\": \"4.2_ThinkAvila\", \"learnToolsVersion\": \"0.3.4\", \"valueTowardsCompletion\": 0.0, \"failureMessage\": \"\", \"exceptionClass\": \"\", \"trace\": \"\", \"outcomeType\": 4}}, \"*\")"
      ],
      "text/plain": [
       "<IPython.core.display.Javascript object>"
      ]
     },
     "metadata": {},
     "output_type": "display_data"
    },
    {
     "data": {
      "text/markdown": [
       "<span style=\"color:#3366cc\">Hint:</span> Look at the early part of each year (around January).  Does the line chart dip to low values or reach relatively high values?"
      ],
      "text/plain": [
       "Hint: Look at the early part of each year (around January).  Does the line chart dip to low values or reach relatively high values?"
      ]
     },
     "metadata": {},
     "output_type": "display_data"
    }
   ],
   "source": [
    "step_4.b.hint()"
   ]
  },
  {
   "cell_type": "code",
   "execution_count": 13,
   "id": "94e02ec9",
   "metadata": {
    "execution": {
     "iopub.execute_input": "2022-07-03T05:47:06.911709Z",
     "iopub.status.busy": "2022-07-03T05:47:06.910783Z",
     "iopub.status.idle": "2022-07-03T05:47:06.918162Z",
     "shell.execute_reply": "2022-07-03T05:47:06.917177Z"
    },
    "papermill": {
     "duration": 0.020752,
     "end_time": "2022-07-03T05:47:06.920279",
     "exception": false,
     "start_time": "2022-07-03T05:47:06.899527",
     "status": "completed"
    },
    "tags": []
   },
   "outputs": [
    {
     "data": {
      "application/javascript": [
       "parent.postMessage({\"jupyterEvent\": \"custom.exercise_interaction\", \"data\": {\"interactionType\": 3, \"questionType\": 4, \"questionId\": \"4.2_ThinkAvila\", \"learnToolsVersion\": \"0.3.4\", \"valueTowardsCompletion\": 0.0, \"failureMessage\": \"\", \"exceptionClass\": \"\", \"trace\": \"\", \"outcomeType\": 4}}, \"*\")"
      ],
      "text/plain": [
       "<IPython.core.display.Javascript object>"
      ]
     },
     "metadata": {},
     "output_type": "display_data"
    },
    {
     "data": {
      "text/markdown": [
       "<span style=\"color:#33cc99\">Solution:</span> The line chart generally dips to relatively low values around the early part of each year (in December and January), and reaches its highest values in the middle of the year (especially around May and June).  Thus, Avila Adobe usually gets more visitors in March-August (or the spring and summer months).  With this in mind, Avila Adobe could definitely benefit from hiring more seasonal employees to help with the extra work in March-August (the spring and summer)!"
      ],
      "text/plain": [
       "Solution: The line chart generally dips to relatively low values around the early part of each year (in December and January), and reaches its highest values in the middle of the year (especially around May and June).  Thus, Avila Adobe usually gets more visitors in March-August (or the spring and summer months).  With this in mind, Avila Adobe could definitely benefit from hiring more seasonal employees to help with the extra work in March-August (the spring and summer)!"
      ]
     },
     "metadata": {},
     "output_type": "display_data"
    }
   ],
   "source": [
    "# Check your answer (Run this code cell to receive credit!)\n",
    "step_4.b.solution()"
   ]
  },
  {
   "cell_type": "markdown",
   "id": "9a8882e6",
   "metadata": {
    "papermill": {
     "duration": 0.009762,
     "end_time": "2022-07-03T05:47:06.940334",
     "exception": false,
     "start_time": "2022-07-03T05:47:06.930572",
     "status": "completed"
    },
    "tags": []
   },
   "source": [
    "# Keep going\n",
    "\n",
    "Move on to learn about **[bar charts and heatmaps](https://www.kaggle.com/alexisbcook/bar-charts-and-heatmaps)** with a new dataset!"
   ]
  },
  {
   "cell_type": "markdown",
   "id": "7ac1cfdf",
   "metadata": {
    "papermill": {
     "duration": 0.009831,
     "end_time": "2022-07-03T05:47:06.960305",
     "exception": false,
     "start_time": "2022-07-03T05:47:06.950474",
     "status": "completed"
    },
    "tags": []
   },
   "source": [
    "---\n",
    "\n",
    "\n",
    "\n",
    "\n",
    "*Have questions or comments? Visit the [course discussion forum](https://www.kaggle.com/learn/data-visualization/discussion) to chat with other learners.*"
   ]
  }
 ],
 "metadata": {
  "kernelspec": {
   "display_name": "Python 3",
   "language": "python",
   "name": "python3"
  },
  "language_info": {
   "codemirror_mode": {
    "name": "ipython",
    "version": 3
   },
   "file_extension": ".py",
   "mimetype": "text/x-python",
   "name": "python",
   "nbconvert_exporter": "python",
   "pygments_lexer": "ipython3",
   "version": "3.7.12"
  },
  "papermill": {
   "default_parameters": {},
   "duration": 13.067103,
   "end_time": "2022-07-03T05:47:07.691666",
   "environment_variables": {},
   "exception": null,
   "input_path": "__notebook__.ipynb",
   "output_path": "__notebook__.ipynb",
   "parameters": {},
   "start_time": "2022-07-03T05:46:54.624563",
   "version": "2.3.4"
  }
 },
 "nbformat": 4,
 "nbformat_minor": 5
}
